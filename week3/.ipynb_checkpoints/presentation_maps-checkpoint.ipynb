{
 "metadata": {
  "name": "",
  "signature": "sha256:41b4fa2f33c9853fe1a0c88bab56df0bc08e99d3ef139a662859b9c3dce9af59"
 },
 "nbformat": 3,
 "nbformat_minor": 0,
 "worksheets": [
  {
   "cells": [
    {
     "cell_type": "markdown",
     "metadata": {},
     "source": [
      "## A universal and efficient method to compute maps from image-based prediction model"
     ]
    },
    {
     "cell_type": "code",
     "collapsed": false,
     "input": [
      "import numpy as np\n",
      "from sklearn import metrics\n",
      "import statsmodels.api as sm\n",
      "import statsmodels.formula.api as smf\n",
      "import pandas as pd\n",
      "%matplotlib inline\n",
      "import matplotlib.pyplot as plt"
     ],
     "language": "python",
     "metadata": {},
     "outputs": [],
     "prompt_number": 178
    },
    {
     "cell_type": "code",
     "collapsed": false,
     "input": [
      "### Definition of capturing coefficients\n",
      "def get_kappa(K_x,K_p,y):\n",
      "    \"\"\"\n",
      "    K_x is a nxn matrix\n",
      "    K_p is a nxn matrix\n",
      "    y is a nx1 column vector\n",
      "    \"\"\"\n",
      "    numerator = np.dot(K_x,np.dot(K_p,y)).var()\n",
      "    denominator = y.var()\n",
      "    return numerator / denominator\n",
      "\n",
      "def get_kernel_matrix(X,metric='rbf'):\n",
      "    \"\"\"\n",
      "    X is a n vector\n",
      "    \"\"\"\n",
      "    def kernel(j,xs,gamma):\n",
      "        kxs = np.exp(-(xs[j]-xs)**2/gamma)\n",
      "        return (kxs / kxs.sum())\n",
      "    n = X.shape[0]\n",
      "    K = np.zeros((n, n))\n",
      "    for j in xrange(n):\n",
      "        K[:,j] = kernel(j, X, gamma = X.var()/(n**0.2))\n",
      "    return K.T\n",
      "\n",
      "def get_capturing_coefficient(X,y,p):\n",
      "    \"\"\"\n",
      "    X is the input matrix (n, m)\n",
      "    y is the target vector (n,)\n",
      "    p is the prediction vector (n,)\n",
      "    \"\"\"\n",
      "    N, M = X.shape\n",
      "    kappas = []\n",
      "    K_p = get_kernel_matrix(p)\n",
      "    for m in xrange(M):\n",
      "        K_x = get_kernel_matrix(X[:, m])\n",
      "        kappa = get_kappa(K_x,K_p,y)\n",
      "        kappas.append(kappa)\n",
      "    return np.asarray(kappas)\n",
      "\n"
     ],
     "language": "python",
     "metadata": {},
     "outputs": [],
     "prompt_number": 156
    },
    {
     "cell_type": "code",
     "collapsed": false,
     "input": [],
     "language": "python",
     "metadata": {},
     "outputs": [],
     "prompt_number": 241
    },
    {
     "cell_type": "code",
     "collapsed": false,
     "input": [
      "## test for kappa - 0, 1, independent, ...\n",
      "N = 10\n",
      "\n",
      "X = np.random.rand(N, N)\n",
      "y = np.random.rand(N)\n",
      "p = np.random.rand(N)\n",
      "print get_capturing_coefficient(X, y, p)"
     ],
     "language": "python",
     "metadata": {},
     "outputs": [
      {
       "output_type": "stream",
       "stream": "stdout",
       "text": [
        "[ 0.01313717  0.01204     0.00877733  0.00751871  0.00940062  0.00657378\n",
        "  0.00302769  0.00294294  0.01758058  0.00097102]\n"
       ]
      }
     ],
     "prompt_number": 159
    },
    {
     "cell_type": "code",
     "collapsed": false,
     "input": [
      "N = 100\n",
      "D = 4\n",
      "X = np.random.randn(N, D)\n",
      "X[:, 0] = X[:, 0] * 2.5 + 1.0\n",
      "X[:, 1] = X[:, 1] * 100 - 50\n",
      "\n",
      "y = X[:, 0] * 15. - X[:, 1]*2.5 + 10 + np.random.randn(N) * 2.1\n",
      "\n",
      "model = sm.OLS(y, sm.add_constant(X)).fit()\n",
      "model.summary()"
     ],
     "language": "python",
     "metadata": {},
     "outputs": [
      {
       "html": [
        "<table class=\"simpletable\">\n",
        "<caption>OLS Regression Results</caption>\n",
        "<tr>\n",
        "  <th>Dep. Variable:</th>            <td>y</td>        <th>  R-squared:         </th> <td>   1.000</td> \n",
        "</tr>\n",
        "<tr>\n",
        "  <th>Model:</th>                   <td>OLS</td>       <th>  Adj. R-squared:    </th> <td>   1.000</td> \n",
        "</tr>\n",
        "<tr>\n",
        "  <th>Method:</th>             <td>Least Squares</td>  <th>  F-statistic:       </th> <td>3.547e+05</td>\n",
        "</tr>\n",
        "<tr>\n",
        "  <th>Date:</th>             <td>Fri, 22 Aug 2014</td> <th>  Prob (F-statistic):</th> <td>2.56e-197</td>\n",
        "</tr>\n",
        "<tr>\n",
        "  <th>Time:</th>                 <td>14:48:45</td>     <th>  Log-Likelihood:    </th> <td> -210.09</td> \n",
        "</tr>\n",
        "<tr>\n",
        "  <th>No. Observations:</th>      <td>   100</td>      <th>  AIC:               </th> <td>   430.2</td> \n",
        "</tr>\n",
        "<tr>\n",
        "  <th>Df Residuals:</th>          <td>    95</td>      <th>  BIC:               </th> <td>   443.2</td> \n",
        "</tr>\n",
        "<tr>\n",
        "  <th>Df Model:</th>              <td>     4</td>      <th>                     </th>     <td> </td>    \n",
        "</tr>\n",
        "</table>\n",
        "<table class=\"simpletable\">\n",
        "<tr>\n",
        "    <td></td>       <th>coef</th>     <th>std err</th>      <th>t</th>      <th>P>|t|</th> <th>[95.0% Conf. Int.]</th> \n",
        "</tr>\n",
        "<tr>\n",
        "  <th>const</th> <td>   10.4662</td> <td>    0.253</td> <td>   41.324</td> <td> 0.000</td> <td>    9.963    10.969</td>\n",
        "</tr>\n",
        "<tr>\n",
        "  <th>x1</th>    <td>   15.0105</td> <td>    0.082</td> <td>  182.646</td> <td> 0.000</td> <td>   14.847    15.174</td>\n",
        "</tr>\n",
        "<tr>\n",
        "  <th>x2</th>    <td>   -2.4969</td> <td>    0.002</td> <td>-1167.372</td> <td> 0.000</td> <td>   -2.501    -2.493</td>\n",
        "</tr>\n",
        "<tr>\n",
        "  <th>x3</th>    <td>   -0.1203</td> <td>    0.218</td> <td>   -0.551</td> <td> 0.583</td> <td>   -0.554     0.313</td>\n",
        "</tr>\n",
        "<tr>\n",
        "  <th>x4</th>    <td>    0.0815</td> <td>    0.195</td> <td>    0.417</td> <td> 0.677</td> <td>   -0.306     0.469</td>\n",
        "</tr>\n",
        "</table>\n",
        "<table class=\"simpletable\">\n",
        "<tr>\n",
        "  <th>Omnibus:</th>       <td> 3.389</td> <th>  Durbin-Watson:     </th> <td>   1.647</td>\n",
        "</tr>\n",
        "<tr>\n",
        "  <th>Prob(Omnibus):</th> <td> 0.184</td> <th>  Jarque-Bera (JB):  </th> <td>   1.997</td>\n",
        "</tr>\n",
        "<tr>\n",
        "  <th>Skew:</th>          <td> 0.060</td> <th>  Prob(JB):          </th> <td>   0.369</td>\n",
        "</tr>\n",
        "<tr>\n",
        "  <th>Kurtosis:</th>      <td> 2.318</td> <th>  Cond. No.          </th> <td>    137.</td>\n",
        "</tr>\n",
        "</table>"
       ],
       "metadata": {},
       "output_type": "pyout",
       "prompt_number": 160,
       "text": [
        "<class 'statsmodels.iolib.summary.Summary'>\n",
        "\"\"\"\n",
        "                            OLS Regression Results                            \n",
        "==============================================================================\n",
        "Dep. Variable:                      y   R-squared:                       1.000\n",
        "Model:                            OLS   Adj. R-squared:                  1.000\n",
        "Method:                 Least Squares   F-statistic:                 3.547e+05\n",
        "Date:                Fri, 22 Aug 2014   Prob (F-statistic):          2.56e-197\n",
        "Time:                        14:48:45   Log-Likelihood:                -210.09\n",
        "No. Observations:                 100   AIC:                             430.2\n",
        "Df Residuals:                      95   BIC:                             443.2\n",
        "Df Model:                           4                                         \n",
        "==============================================================================\n",
        "                 coef    std err          t      P>|t|      [95.0% Conf. Int.]\n",
        "------------------------------------------------------------------------------\n",
        "const         10.4662      0.253     41.324      0.000         9.963    10.969\n",
        "x1            15.0105      0.082    182.646      0.000        14.847    15.174\n",
        "x2            -2.4969      0.002  -1167.372      0.000        -2.501    -2.493\n",
        "x3            -0.1203      0.218     -0.551      0.583        -0.554     0.313\n",
        "x4             0.0815      0.195      0.417      0.677        -0.306     0.469\n",
        "==============================================================================\n",
        "Omnibus:                        3.389   Durbin-Watson:                   1.647\n",
        "Prob(Omnibus):                  0.184   Jarque-Bera (JB):                1.997\n",
        "Skew:                           0.060   Prob(JB):                        0.369\n",
        "Kurtosis:                       2.318   Cond. No.                         137.\n",
        "==============================================================================\n",
        "\"\"\""
       ]
      }
     ],
     "prompt_number": 160
    },
    {
     "cell_type": "code",
     "collapsed": false,
     "input": [
      "p = model.predict(sm.add_constant(X))\n",
      "print get_capturing_coefficient(X, y, p)"
     ],
     "language": "python",
     "metadata": {},
     "outputs": [
      {
       "output_type": "stream",
       "stream": "stdout",
       "text": [
        "[ 0.00840828  0.53960012  0.01402195  0.01960944]\n"
       ]
      }
     ],
     "prompt_number": 161
    },
    {
     "cell_type": "code",
     "collapsed": false,
     "input": [
      "N = 1000\n",
      "D = 4\n",
      "X = np.random.randn(N, D)\n",
      "X[:, 0] = X[:, 0] * 2.5 + 1.0\n",
      "X[:, 1] = X[:, 1] * 100 - 50\n",
      "\n",
      "y = np.log(X[:, 1]+1000) * 15. - X[:, 2]**2 + 10 + np.random.randn(N) * 2.1\n",
      "\n",
      "data = pd.DataFrame(data = np.c_[X, y], columns=[\"X1\", \"X2\", \"X3\", \"X4\", \"y\"])\n",
      "print data.shape\n",
      "print data.describe()\n",
      "#model = sm.OLS(y, sm.add_constant(X)).fit()\n",
      "#model.summary()\n",
      "#model = smf.ols(formula = \"y ~ X1+np.log(X2+1000)+X3+X4\", data = data).fit()\n",
      "model = smf.ols(formula = \"y ~ X1+X2+X3:X3+X4\", data = data).fit()\n",
      "model.summary()"
     ],
     "language": "python",
     "metadata": {},
     "outputs": [
      {
       "output_type": "stream",
       "stream": "stdout",
       "text": [
        "(1000, 5)\n",
        "                X1           X2           X3           X4            y\n",
        "count  1000.000000  1000.000000  1000.000000  1000.000000  1000.000000\n",
        "mean      1.071776   -50.857876     0.021163    -0.072232   111.746446\n",
        "std       2.534233    93.760587     0.979609     0.999775     2.809488\n",
        "min      -7.657246  -322.007768    -2.895523    -3.280788   101.226219\n",
        "25%      -0.583474  -116.540730    -0.631373    -0.743666   109.894981\n",
        "50%       1.128121   -52.179975     0.024629    -0.064478   111.827965\n",
        "75%       2.810850    16.038557     0.717421     0.622478   113.678012\n",
        "max       8.829412   326.149582     3.121759     2.877600   118.805262\n",
        "\n",
        "[8 rows x 5 columns]\n"
       ]
      },
      {
       "html": [
        "<table class=\"simpletable\">\n",
        "<caption>OLS Regression Results</caption>\n",
        "<tr>\n",
        "  <th>Dep. Variable:</th>            <td>y</td>        <th>  R-squared:         </th> <td>   0.273</td>\n",
        "</tr>\n",
        "<tr>\n",
        "  <th>Model:</th>                   <td>OLS</td>       <th>  Adj. R-squared:    </th> <td>   0.270</td>\n",
        "</tr>\n",
        "<tr>\n",
        "  <th>Method:</th>             <td>Least Squares</td>  <th>  F-statistic:       </th> <td>   93.51</td>\n",
        "</tr>\n",
        "<tr>\n",
        "  <th>Date:</th>             <td>Fri, 22 Aug 2014</td> <th>  Prob (F-statistic):</th> <td>1.55e-67</td>\n",
        "</tr>\n",
        "<tr>\n",
        "  <th>Time:</th>                 <td>14:53:14</td>     <th>  Log-Likelihood:    </th> <td> -2291.9</td>\n",
        "</tr>\n",
        "<tr>\n",
        "  <th>No. Observations:</th>      <td>  1000</td>      <th>  AIC:               </th> <td>   4594.</td>\n",
        "</tr>\n",
        "<tr>\n",
        "  <th>Df Residuals:</th>          <td>   995</td>      <th>  BIC:               </th> <td>   4618.</td>\n",
        "</tr>\n",
        "<tr>\n",
        "  <th>Df Model:</th>              <td>     4</td>      <th>                     </th>     <td> </td>   \n",
        "</tr>\n",
        "</table>\n",
        "<table class=\"simpletable\">\n",
        "<tr>\n",
        "      <td></td>         <th>coef</th>     <th>std err</th>      <th>t</th>      <th>P>|t|</th> <th>[95.0% Conf. Int.]</th> \n",
        "</tr>\n",
        "<tr>\n",
        "  <th>Intercept</th> <td>  112.5616</td> <td>    0.092</td> <td> 1222.403</td> <td> 0.000</td> <td>  112.381   112.742</td>\n",
        "</tr>\n",
        "<tr>\n",
        "  <th>X1</th>        <td>   -0.0123</td> <td>    0.030</td> <td>   -0.408</td> <td> 0.684</td> <td>   -0.071     0.047</td>\n",
        "</tr>\n",
        "<tr>\n",
        "  <th>X2</th>        <td>    0.0156</td> <td>    0.001</td> <td>   19.292</td> <td> 0.000</td> <td>    0.014     0.017</td>\n",
        "</tr>\n",
        "<tr>\n",
        "  <th>X3</th>        <td>   -0.0454</td> <td>    0.078</td> <td>   -0.585</td> <td> 0.558</td> <td>   -0.198     0.107</td>\n",
        "</tr>\n",
        "<tr>\n",
        "  <th>X4</th>        <td>    0.0880</td> <td>    0.076</td> <td>    1.155</td> <td> 0.248</td> <td>   -0.062     0.237</td>\n",
        "</tr>\n",
        "</table>\n",
        "<table class=\"simpletable\">\n",
        "<tr>\n",
        "  <th>Omnibus:</th>       <td>28.890</td> <th>  Durbin-Watson:     </th> <td>   1.926</td>\n",
        "</tr>\n",
        "<tr>\n",
        "  <th>Prob(Omnibus):</th> <td> 0.000</td> <th>  Jarque-Bera (JB):  </th> <td>  32.692</td>\n",
        "</tr>\n",
        "<tr>\n",
        "  <th>Skew:</th>          <td>-0.367</td> <th>  Prob(JB):          </th> <td>7.96e-08</td>\n",
        "</tr>\n",
        "<tr>\n",
        "  <th>Kurtosis:</th>      <td> 3.497</td> <th>  Cond. No.          </th> <td>    130.</td>\n",
        "</tr>\n",
        "</table>"
       ],
       "metadata": {},
       "output_type": "pyout",
       "prompt_number": 172,
       "text": [
        "<class 'statsmodels.iolib.summary.Summary'>\n",
        "\"\"\"\n",
        "                            OLS Regression Results                            \n",
        "==============================================================================\n",
        "Dep. Variable:                      y   R-squared:                       0.273\n",
        "Model:                            OLS   Adj. R-squared:                  0.270\n",
        "Method:                 Least Squares   F-statistic:                     93.51\n",
        "Date:                Fri, 22 Aug 2014   Prob (F-statistic):           1.55e-67\n",
        "Time:                        14:53:14   Log-Likelihood:                -2291.9\n",
        "No. Observations:                1000   AIC:                             4594.\n",
        "Df Residuals:                     995   BIC:                             4618.\n",
        "Df Model:                           4                                         \n",
        "==============================================================================\n",
        "                 coef    std err          t      P>|t|      [95.0% Conf. Int.]\n",
        "------------------------------------------------------------------------------\n",
        "Intercept    112.5616      0.092   1222.403      0.000       112.381   112.742\n",
        "X1            -0.0123      0.030     -0.408      0.684        -0.071     0.047\n",
        "X2             0.0156      0.001     19.292      0.000         0.014     0.017\n",
        "X3            -0.0454      0.078     -0.585      0.558        -0.198     0.107\n",
        "X4             0.0880      0.076      1.155      0.248        -0.062     0.237\n",
        "==============================================================================\n",
        "Omnibus:                       28.890   Durbin-Watson:                   1.926\n",
        "Prob(Omnibus):                  0.000   Jarque-Bera (JB):               32.692\n",
        "Skew:                          -0.367   Prob(JB):                     7.96e-08\n",
        "Kurtosis:                       3.497   Cond. No.                         130.\n",
        "==============================================================================\n",
        "\"\"\""
       ]
      }
     ],
     "prompt_number": 172
    },
    {
     "cell_type": "code",
     "collapsed": false,
     "input": [
      "p = model.predict(data)\n",
      "print get_capturing_coefficient(np.asarray(data.iloc[:, :-1]), np.asarray(data.iloc[:,-1]), p)"
     ],
     "language": "python",
     "metadata": {},
     "outputs": [
      {
       "output_type": "stream",
       "stream": "stdout",
       "text": [
        "[ 0.00083898  0.16976147  0.00096933  0.001743  ]\n"
       ]
      }
     ],
     "prompt_number": 173
    },
    {
     "cell_type": "code",
     "collapsed": false,
     "input": [
      "N = 100\n",
      "D = 4\n",
      "X = np.random.randn(N, D)\n",
      "X[:, 0] = X[:, 0] * 2.5 + 1.0\n",
      "X[:, 1] = X[:, 1] * 100 - 50"
     ],
     "language": "python",
     "metadata": {},
     "outputs": [],
     "prompt_number": 174
    },
    {
     "cell_type": "code",
     "collapsed": false,
     "input": [
      "from sklearn.svm import SVR"
     ],
     "language": "python",
     "metadata": {},
     "outputs": [],
     "prompt_number": 176
    },
    {
     "cell_type": "code",
     "collapsed": false,
     "input": [
      "print(__doc__)\n",
      "\n",
      "# Author: Gael Varoquaux <gael dot varoquaux at normalesup dot org>\n",
      "# License: BSD 3 clause\n",
      "\n",
      "# Standard scientific Python imports\n",
      "import matplotlib.pyplot as plt\n",
      "\n",
      "# Import datasets, classifiers and performance metrics\n",
      "from sklearn import datasets, svm, metrics\n",
      "\n",
      "# The digits dataset\n",
      "digits = datasets.load_digits()\n",
      "\n",
      "# The data that we are interested in is made of 8x8 images of digits, let's\n",
      "# have a look at the first 3 images, stored in the `images` attribute of the\n",
      "# dataset.  If we were working from image files, we could load them using\n",
      "# pylab.imread.  Note that each image must have the same size. For these\n",
      "# images, we know which digit they represent: it is given in the 'target' of\n",
      "# the dataset.\n",
      "images_and_labels = list(zip(digits.images, digits.target))\n",
      "for index, (image, label) in enumerate(images_and_labels[:4]):\n",
      "    plt.subplot(2, 4, index + 1)\n",
      "    plt.axis('off')\n",
      "    plt.imshow(image, cmap=plt.cm.gray_r, interpolation='nearest')\n",
      "    plt.title('Training: %i' % label)\n",
      "\n",
      "# To apply a classifier on this data, we need to flatten the image, to\n",
      "# turn the data in a (samples, feature) matrix:\n",
      "n_samples = len(digits.images)\n",
      "data = digits.images.reshape((n_samples, -1))\n",
      "\n",
      "# Create a classifier: a support vector classifier\n",
      "classifier = svm.SVC(gamma=0.001)\n",
      "\n",
      "# We learn the digits on the first half of the digits\n",
      "classifier.fit(data[:n_samples / 2], digits.target[:n_samples / 2])\n",
      "\n",
      "# Now predict the value of the digit on the second half:\n",
      "expected = digits.target[n_samples / 2:]\n",
      "predicted = classifier.predict(data[n_samples / 2:])\n",
      "\n",
      "print(\"Classification report for classifier %s:\\n%s\\n\"\n",
      "      % (classifier, metrics.classification_report(expected, predicted)))\n",
      "print(\"Confusion matrix:\\n%s\" % metrics.confusion_matrix(expected, predicted))\n",
      "\n",
      "images_and_predictions = list(zip(digits.images[n_samples / 2:], predicted))\n",
      "for index, (image, prediction) in enumerate(images_and_predictions[:4]):\n",
      "    plt.subplot(2, 4, index + 5)\n",
      "    plt.axis('off')\n",
      "    plt.imshow(image, cmap=plt.cm.gray_r, interpolation='nearest')\n",
      "    plt.title('Prediction: %i' % prediction)\n",
      "\n",
      "#plt.show()"
     ],
     "language": "python",
     "metadata": {},
     "outputs": [
      {
       "output_type": "stream",
       "stream": "stdout",
       "text": [
        "Automatically created module for IPython interactive environment\n",
        "Classification report for classifier SVC(C=1.0, cache_size=200, class_weight=None, coef0=0.0, degree=3,\n",
        "  gamma=0.001, kernel=rbf, max_iter=-1, probability=False,\n",
        "  random_state=None, shrinking=True, tol=0.001, verbose=False):\n",
        "             precision    recall  f1-score   support\n",
        "\n",
        "          0       1.00      0.99      0.99        88\n",
        "          1       0.99      0.97      0.98        91\n",
        "          2       0.99      0.99      0.99        86\n",
        "          3       0.98      0.87      0.92        91\n",
        "          4       0.99      0.96      0.97        92\n",
        "          5       0.95      0.97      0.96        91\n",
        "          6       0.99      0.99      0.99        91\n",
        "          7       0.96      0.99      0.97        89\n",
        "          8       0.94      1.00      0.97        88\n",
        "          9       0.93      0.98      0.95        92\n",
        "\n",
        "avg / total       0.97      0.97      0.97       899\n",
        "\n"
       ]
      },
      {
       "output_type": "stream",
       "stream": "stdout",
       "text": [
        "\n",
        "Confusion matrix:\n",
        "[[87  0  0  0  1  0  0  0  0  0]\n",
        " [ 0 88  1  0  0  0  0  0  1  1]\n",
        " [ 0  0 85  1  0  0  0  0  0  0]\n",
        " [ 0  0  0 79  0  3  0  4  5  0]\n",
        " [ 0  0  0  0 88  0  0  0  0  4]\n",
        " [ 0  0  0  0  0 88  1  0  0  2]\n",
        " [ 0  1  0  0  0  0 90  0  0  0]\n",
        " [ 0  0  0  0  0  1  0 88  0  0]\n",
        " [ 0  0  0  0  0  0  0  0 88  0]\n",
        " [ 0  0  0  1  0  1  0  0  0 90]]\n"
       ]
      },
      {
       "metadata": {},
       "output_type": "display_data",
       "png": "[encoded data removed]",
       "text": [
        "<matplotlib.figure.Figure at 0x7f594edab290>"
       ]
      }
     ],
     "prompt_number": 179
    },
    {
     "cell_type": "code",
     "collapsed": false,
     "input": [
      "expected.shape, predicted.shape\n",
      "X = data[n_samples / 2:][(expected==8) | (expected == 9)]"
     ],
     "language": "python",
     "metadata": {},
     "outputs": [],
     "prompt_number": 214
    },
    {
     "cell_type": "code",
     "collapsed": false,
     "input": [
      "X.shape"
     ],
     "language": "python",
     "metadata": {},
     "outputs": [
      {
       "metadata": {},
       "output_type": "pyout",
       "prompt_number": 215,
       "text": [
        "(180, 64)"
       ]
      }
     ],
     "prompt_number": 215
    },
    {
     "cell_type": "code",
     "collapsed": false,
     "input": [
      "feat_importances = get_capturing_coefficient(X, expected[(expected==8) | (expected == 9)], \n",
      "                                             predicted[(expected==8) | (expected == 9)])\n",
      "feat_importances[np.isnan(feat_importances)] = 0"
     ],
     "language": "python",
     "metadata": {},
     "outputs": [],
     "prompt_number": 216
    },
    {
     "cell_type": "code",
     "collapsed": false,
     "input": [
      "coms = [(i,j) for i in range(0,10) for j in range(0,10)]\n",
      "importance = []\n",
      "for com in coms:\n",
      "    index = (expected==com[0]) | (expected == com[1])\n",
      "    X = data[n_samples / 2:][index]\n",
      "    feats_importances = get_capturing_coefficient(X,expected[index],predicted[index])\n",
      "    feats_importances[np.isnan(feats_importances)] = 0\n",
      "    importance.append(feats_importances)"
     ],
     "language": "python",
     "metadata": {},
     "outputs": [],
     "prompt_number": 236
    },
    {
     "cell_type": "code",
     "collapsed": false,
     "input": [
      "from IPython.html import widgets\n",
      "\n",
      "def plot(i,j):\n",
      "    index = coms.index((i,j))\n",
      "    print importance[index]\n",
      "    fig, axes = plt.subplots(nrows = 1, ncols=2, figsize = (2 * 3, 3))\n",
      "    axes[0].imshow(importance[index].reshape((8,8)), cmap = plt.cm.gray,interpolation='nearest')\n",
      "    average_diff = data[n_samples / 2:][expected==i].mean(axis = 0) - data[n_samples / 2:][expected==j].mean(axis = 0)\n",
      "    axes[1].imshow(np.abs(average_diff).reshape((8,8)), cmap = plt.cm.gray,interpolation='nearest')\n",
      "widgets.interactive(plot, i =(0, 9, 1), j =(0, 9, 1))"
     ],
     "language": "python",
     "metadata": {},
     "outputs": [
      {
       "output_type": "stream",
       "stream": "stdout",
       "text": [
        "[ 0.          0.08543671  0.22754956  0.03485688  0.20676936  0.54237316\n",
        "  0.26477476  0.          0.          0.1249926   0.04407261  0.02616037\n",
        "  0.19182726  0.44774112  0.03049907  0.          0.          0.07271487\n",
        "  0.01136676  0.02502023  0.01053397  0.89484629  0.50882655  0.          0.\n",
        "  0.06966349  0.167028    0.58619224  0.61236821  0.26668348  0.81745065\n",
        "  0.          0.          0.36002102  0.12146435  0.37139983  0.54167908\n",
        "  0.17814229  0.37997262  0.          0.          0.49018693  0.80328984\n",
        "  0.04213516  0.16922476  0.0591482   0.13646892  0.          0.\n",
        "  0.02694116  0.46328015  0.09176388  0.00665144  0.13384525  0.02995541\n",
        "  0.          0.          0.11251159  0.32022788  0.06508543  0.08319324\n",
        "  0.08362255  0.0195851   0.        ]\n"
       ]
      },
      {
       "metadata": {},
       "output_type": "display_data",
       "png": "[encoded data removed]",
       "text": [
        "<matplotlib.figure.Figure at 0x7f594e6f7150>"
       ]
      }
     ],
     "prompt_number": 249
    },
    {
     "cell_type": "code",
     "collapsed": false,
     "input": [
      "data[n_samples / 2:][expected==com[0]].mean(axis = 0).shape"
     ],
     "language": "python",
     "metadata": {},
     "outputs": [
      {
       "metadata": {},
       "output_type": "pyout",
       "prompt_number": 247,
       "text": [
        "(64,)"
       ]
      }
     ],
     "prompt_number": 247
    },
    {
     "cell_type": "code",
     "collapsed": false,
     "input": [
      "plt.imshow(feat_importances.reshape((8, 8)), cmap = plt.cm.gray, interpolation='nearest')"
     ],
     "language": "python",
     "metadata": {},
     "outputs": [
      {
       "metadata": {},
       "output_type": "pyout",
       "prompt_number": 217,
       "text": [
        "<matplotlib.image.AxesImage at 0x7f594df7d210>"
       ]
      },
      {
       "metadata": {},
       "output_type": "display_data",
       "png": "[encoded data removed]",
       "text": [
        "<matplotlib.figure.Figure at 0x7f594dff1f50>"
       ]
      }
     ],
     "prompt_number": 217
    },
    {
     "cell_type": "code",
     "collapsed": false,
     "input": [
      "from sklearn.svm import SVC\n",
      "from sklearn.datasets import load_digits\n",
      "from sklearn.feature_selection import RFE\n",
      "\n",
      "# Load the digits dataset\n",
      "digits = load_digits()\n",
      "X = digits.images.reshape((len(digits.images), -1))\n",
      "y = digits.target\n",
      "\n",
      "# Create the RFE object and rank each pixel\n",
      "svc = SVC(kernel=\"linear\", C=1)\n",
      "rfe = RFE(estimator=svc, n_features_to_select=1, step=1)\n",
      "rfe.fit(X, y)\n",
      "ranking = rfe.ranking_.reshape(digits.images[0].shape)\n",
      "\n",
      "# Plot pixel ranking\n",
      "import matplotlib.pyplot as plt\n",
      "plt.imshow(ranking.max()-ranking,cmap = plt.cm.gray, interpolation='nearest')\n",
      "#plt.colorbar()\n",
      "plt.title(\"Ranking of pixels with RFE\")"
     ],
     "language": "python",
     "metadata": {},
     "outputs": [
      {
       "metadata": {},
       "output_type": "pyout",
       "prompt_number": 194,
       "text": [
        "<matplotlib.text.Text at 0x7f594e5eec90>"
       ]
      },
      {
       "metadata": {},
       "output_type": "display_data",
       "png": "[encoded data removed]",
       "text": [
        "<matplotlib.figure.Figure at 0x7f594e08fc10>"
       ]
      }
     ],
     "prompt_number": 194
    },
    {
     "cell_type": "code",
     "collapsed": false,
     "input": [],
     "language": "python",
     "metadata": {},
     "outputs": []
    }
   ],
   "metadata": {}
  }
 ]
}